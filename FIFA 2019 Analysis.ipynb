{
 "cells": [
  {
   "cell_type": "code",
   "execution_count": 57,
   "metadata": {},
   "outputs": [
    {
     "data": {
      "text/html": [
       "<div>\n",
       "<style scoped>\n",
       "    .dataframe tbody tr th:only-of-type {\n",
       "        vertical-align: middle;\n",
       "    }\n",
       "\n",
       "    .dataframe tbody tr th {\n",
       "        vertical-align: top;\n",
       "    }\n",
       "\n",
       "    .dataframe thead th {\n",
       "        text-align: right;\n",
       "    }\n",
       "</style>\n",
       "<table border=\"1\" class=\"dataframe\">\n",
       "  <thead>\n",
       "    <tr style=\"text-align: right;\">\n",
       "      <th></th>\n",
       "      <th>Wage</th>\n",
       "      <th>Value</th>\n",
       "    </tr>\n",
       "  </thead>\n",
       "  <tbody>\n",
       "    <tr>\n",
       "      <th>0</th>\n",
       "      <td>565000</td>\n",
       "      <td>110500000</td>\n",
       "    </tr>\n",
       "    <tr>\n",
       "      <th>1</th>\n",
       "      <td>405000</td>\n",
       "      <td>77000000</td>\n",
       "    </tr>\n",
       "    <tr>\n",
       "      <th>2</th>\n",
       "      <td>290000</td>\n",
       "      <td>118500000</td>\n",
       "    </tr>\n",
       "    <tr>\n",
       "      <th>3</th>\n",
       "      <td>260000</td>\n",
       "      <td>72000000</td>\n",
       "    </tr>\n",
       "    <tr>\n",
       "      <th>4</th>\n",
       "      <td>355000</td>\n",
       "      <td>102000000</td>\n",
       "    </tr>\n",
       "  </tbody>\n",
       "</table>\n",
       "</div>"
      ],
      "text/plain": [
       "     Wage      Value\n",
       "0  565000  110500000\n",
       "1  405000   77000000\n",
       "2  290000  118500000\n",
       "3  260000   72000000\n",
       "4  355000  102000000"
      ]
     },
     "execution_count": 57,
     "metadata": {},
     "output_type": "execute_result"
    }
   ],
   "source": [
    "import pandas as pd\n",
    "import numpy as np\n",
    "from bokeh\n",
    "d = pd.read_csv('data.csv')\n",
    "d['Value'] = d['Value'].str.replace('€', '')\n",
    "for i, value in d['Value'].items():\n",
    "    if '.'in value:\n",
    "        value = value.replace('M', '00000')\n",
    "        value = value.replace('.','')\n",
    "    else:\n",
    "        value = value.replace('M', '000000')\n",
    "    value = value.replace('K', '000')\n",
    "    d.loc[i, 'Value'] = int(value)\n",
    "\n",
    "\n",
    "d['Wage'] = d['Wage'].str.replace('€', '')\n",
    "d['Wage'] = d['Wage'].str.replace('K', '000')\n",
    "for i, value in d['Wage'].items():\n",
    "    d.loc[i, 'Wage'] = int(value)\n",
    "    \n",
    "d[['Wage', 'Value']].head()"
   ]
  },
  {
   "cell_type": "code",
   "execution_count": 132,
   "metadata": {},
   "outputs": [
    {
     "name": "stdout",
     "output_type": "stream",
     "text": [
      "Index(['Age', 'Name', 'Value', 'Wage', 'relative_wage'], dtype='object')\n"
     ]
    }
   ],
   "source": [
    "new_set = d[['Age', 'Name', 'Value', 'Wage']]\n",
    "new_set = new_set[new_set.Value != 0]\n",
    "new_set['relative_wage'] = new_set['Wage']/new_set['Value']\n",
    "new_set = new_set[new_set.Wage > 1000]\n",
    "sorted_value_set = new_set.sort_values(by='relative_wage', ascending = True)\n",
    "sorted_value_set.head()\n",
    "new_set.columns = new_set.columns.str.replace(' ','')\n",
    "print(new_set.columns)"
   ]
  },
  {
   "cell_type": "code",
   "execution_count": 139,
   "metadata": {},
   "outputs": [],
   "source": [
    "from bokeh.plotting import figure, show, output_file, ColumnDataSource\n",
    "from bokeh.models import HoverTool\n",
    "\n",
    "source_cds = ColumnDataSource(new_set)\n",
    "source_cds.data.keys()\n",
    "p = figure(tools='box_zoom, pan, reset',\n",
    "           width=700, height=700,\n",
    "           title='FIFA Player Economics',\n",
    "           y_axis_label='Value', x_axis_label='Wage')\n",
    "\n",
    "p.circle('Wage','Value',size=10, source=source_cds, name='Name')\n",
    "p.add_tools(HoverTool(tooltips=[('Name','@Name'),\n",
    "                                ('(Wage, Value)','(@Wage,@Value)'),\n",
    "                                ('Age','@Age')\n",
    "                                ]))\n",
    "\n",
    "show(p)"
   ]
  }
 ],
 "metadata": {
  "kernelspec": {
   "display_name": "Python 3",
   "language": "python",
   "name": "python3"
  },
  "language_info": {
   "codemirror_mode": {
    "name": "ipython",
    "version": 3
   },
   "file_extension": ".py",
   "mimetype": "text/x-python",
   "name": "python",
   "nbconvert_exporter": "python",
   "pygments_lexer": "ipython3",
   "version": "3.8.3"
  }
 },
 "nbformat": 4,
 "nbformat_minor": 4
}
